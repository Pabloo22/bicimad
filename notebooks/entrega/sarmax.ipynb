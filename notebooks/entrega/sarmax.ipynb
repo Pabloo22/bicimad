{
 "cells": [
  {
   "cell_type": "code",
   "execution_count": null,
   "metadata": {},
   "outputs": [],
   "source": [
    "import pandas as pd\n",
    "import seaborn as sns\n",
    "import numpy as np\n",
    "import warnings\n",
    "from from sktime.forecasting.sarimax import SARIMAX\n",
    "from sktime.model_selection import Random\n",
    "from sktime.utils.plotting import plot_series\n",
    "from sklearn.metrics import mean_squared_error\n",
    "\n",
    "from src.data import load_train_test\n",
    "from src import get_config"
   ]
  },
  {
   "cell_type": "code",
   "execution_count": null,
   "metadata": {},
   "outputs": [],
   "source": [
    "config = get_config()\n",
    "train, test = load_train_test(config.processed_data_path)"
   ]
  },
  {
   "cell_type": "code",
   "execution_count": null,
   "metadata": {},
   "outputs": [],
   "source": []
  }
 ],
 "metadata": {
  "kernelspec": {
   "display_name": "src--eE-fv8V-py3.10",
   "language": "python",
   "name": "python3"
  },
  "language_info": {
   "name": "python",
   "version": "3.10.6"
  }
 },
 "nbformat": 4,
 "nbformat_minor": 2
}
