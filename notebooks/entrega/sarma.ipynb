{
 "cells": [
  {
   "cell_type": "code",
   "execution_count": 6,
   "metadata": {},
   "outputs": [],
   "source": [
    "import warnings\n",
    "import itertools\n",
    "\n",
    "import numpy as np\n",
    "from sktime.performance_metrics.forecasting import mean_squared_error\n",
    "from sktime.forecasting.model_selection import (\n",
    "    ForecastingRandomizedSearchCV,\n",
    "    ExpandingWindowSplitter,\n",
    ")\n",
    "from sktime.utils.plotting import plot_series\n",
    "\n",
    "# SARIMAX\n",
    "from sktime.forecasting.sarimax import SARIMAX\n",
    "from sktime.forecasting.stream import UpdateEvery\n",
    "\n",
    "from src.data import load_train_test\n",
    "from src import get_config, plot_windows, get_rolling_predictions"
   ]
  },
  {
   "cell_type": "code",
   "execution_count": 7,
   "metadata": {},
   "outputs": [],
   "source": [
    "config = get_config()\n",
    "train, test = load_train_test(config.processed_data_path)\n",
    "\n",
    "# Filter train data to use oly data since september 2022\n",
    "train = train[train.index >= \"2022-09-01\"]\n",
    "\n",
    "target_column = str(config.target_station_id)\n",
    "train_target_series = train[target_column]\n",
    "test_target_series = test[target_column]"
   ]
  },
  {
   "cell_type": "code",
   "execution_count": 8,
   "metadata": {},
   "outputs": [
    {
     "data": {
      "image/png": "[encoded data removed]",
      "text/plain": [
       "<Figure size 1600x480 with 1 Axes>"
      ]
     },
     "metadata": {},
     "output_type": "display_data"
    }
   ],
   "source": [
    "ONE_MONTH = 24 * 30\n",
    "fh = np.arange(1, ONE_MONTH // 2)\n",
    "cv = ExpandingWindowSplitter(\n",
    "    fh=fh,\n",
    "    initial_window=ONE_MONTH,\n",
    "    step_length=ONE_MONTH // 2,\n",
    ")\n",
    "plot_windows(cv, train_target_series)"
   ]
  },
  {
   "cell_type": "code",
   "execution_count": 9,
   "metadata": {},
   "outputs": [],
   "source": [
    "possible_p_values = [\n",
    "    0,\n",
    "    1,\n",
    "    2,\n",
    "    3,\n",
    "    4,\n",
    "    7,\n",
    "    9,\n",
    "    11,\n",
    "    15,\n",
    "    19,\n",
    "    22,\n",
    "    24,\n",
    "    26,\n",
    "    30,\n",
    "    35,\n",
    "    40,\n",
    "    48,\n",
    "    56,\n",
    "]\n",
    "possible_i_values = [0]\n",
    "possible_q_values = [1, 2, 3, 24, 25]\n",
    "possible_P_values = [0, 1, 2, 3]\n",
    "possible_I_values = [0]\n",
    "possible_Q_values = [1, 2]\n",
    "possible_s_values = [24, 24 * 7]\n",
    "\n",
    "possible_orders = [\n",
    "    (p, i, q)\n",
    "    for p in possible_p_values\n",
    "    for i in possible_i_values\n",
    "    for q in possible_q_values\n",
    "]\n",
    "possible_seasonal_orders = [\n",
    "    (P, I, Q, s)\n",
    "    for P in possible_P_values\n",
    "    for I in possible_I_values\n",
    "    for Q in possible_Q_values\n",
    "    for s in possible_s_values\n",
    "]\n",
    "\n",
    "\n",
    "PARAMETER_GRID = {\n",
    "    \"order\": possible_orders,\n",
    "    \"seasonal_order\": possible_seasonal_orders,\n",
    "}\n",
    "\n",
    "forecaster = ForecastingRandomizedSearchCV(\n",
    "    SARIMAX(enforce_invertibility=False, enforce_stationarity=False),\n",
    "    cv=cv,\n",
    "    n_iter=1,\n",
    "    param_distributions=PARAMETER_GRID,\n",
    "    strategy=\"no-update_params\",\n",
    "    n_jobs=4,\n",
    "    scoring=mean_squared_error,\n",
    "    verbose=1,\n",
    ")"
   ]
  },
  {
   "cell_type": "code",
   "execution_count": 10,
   "metadata": {},
   "outputs": [
    {
     "name": "stdout",
     "output_type": "stream",
     "text": [
      "Fitting 3 folds for each of 1 candidates, totalling 3 fits\n"
     ]
    },
    {
     "name": "stderr",
     "output_type": "stream",
     "text": [
      "/home/pablo/.cache/pypoetry/virtualenvs/src--eE-fv8V-py3.10/lib/python3.10/site-packages/statsmodels/tsa/statespace/sarimax.py:866: UserWarning: Too few observations to estimate starting parameters for seasonal ARMA. All parameters except for variances will be set to zeros.\n",
      "  warn('Too few observations to estimate starting parameters%s.'\n"
     ]
    }
   ],
   "source": [
    "warnings.filterwarnings(\"ignore\")\n",
    "forecaster.fit(train_target_series)"
   ]
  },
  {
   "cell_type": "code",
   "execution_count": null,
   "metadata": {},
   "outputs": [
    {
     "name": "stderr",
     "output_type": "stream",
     "text": [
      " This problem is unconstrained.\n"
     ]
    },
    {
     "name": "stdout",
     "output_type": "stream",
     "text": [
      "RUNNING THE L-BFGS-B CODE\n",
      "\n",
      "           * * *\n",
      "\n",
      "Machine precision = 2.220D-16\n",
      " N =           12     M =           10\n",
      "\n",
      "At X0         0 variables are exactly at the bounds\n",
      "\n",
      "At iterate    0    f=  4.04675D+00    |proj g|=  3.33986D+00\n",
      "\n",
      "At iterate    5    f=  2.60498D+00    |proj g|=  7.64817D-02\n",
      "\n",
      "At iterate   10    f=  2.59510D+00    |proj g|=  1.78185D-02\n",
      "\n",
      "At iterate   15    f=  2.59445D+00    |proj g|=  3.05794D-03\n",
      "\n",
      "At iterate   20    f=  2.59344D+00    |proj g|=  1.16030D-02\n",
      "\n",
      "At iterate   25    f=  2.59174D+00    |proj g|=  4.16081D-03\n",
      "\n",
      "At iterate   30    f=  2.59118D+00    |proj g|=  8.49622D-03\n",
      "\n",
      "At iterate   35    f=  2.59103D+00    |proj g|=  1.97166D-03\n",
      "\n",
      "At iterate   40    f=  2.59100D+00    |proj g|=  2.23873D-03\n",
      "\n",
      "At iterate   45    f=  2.59092D+00    |proj g|=  8.68492D-03\n",
      "\n",
      "At iterate   50    f=  2.59042D+00    |proj g|=  1.25558D-02\n",
      "\n",
      "           * * *\n",
      "\n",
      "Tit   = total number of iterations\n",
      "Tnf   = total number of function evaluations\n",
      "Tnint = total number of segments explored during Cauchy searches\n",
      "Skip  = number of BFGS updates skipped\n",
      "Nact  = number of active bounds at final generalized Cauchy point\n",
      "Projg = norm of the final projected gradient\n",
      "F     = final function value\n",
      "\n",
      "           * * *\n",
      "\n",
      "   N    Tit     Tnf  Tnint  Skip  Nact     Projg        F\n",
      "   12     50     59      1     0     0   1.256D-02   2.590D+00\n",
      "  F =   2.5904156409844474     \n",
      "\n",
      "STOP: TOTAL NO. of ITERATIONS REACHED LIMIT                 \n"
     ]
    },
    {
     "data": {
      "text/html": [
       "<style>#sk-387a447e-ee27-418a-ae84-4f87b2fa425f {color: black;background-color: white;}#sk-387a447e-ee27-418a-ae84-4f87b2fa425f pre{padding: 0;}#sk-387a447e-ee27-418a-ae84-4f87b2fa425f div.sk-toggleable {background-color: white;}#sk-387a447e-ee27-418a-ae84-4f87b2fa425f label.sk-toggleable__label {cursor: pointer;display: block;width: 100%;margin-bottom: 0;padding: 0.3em;box-sizing: border-box;text-align: center;}#sk-387a447e-ee27-418a-ae84-4f87b2fa425f label.sk-toggleable__label-arrow:before {content: \"▸\";float: left;margin-right: 0.25em;color: #696969;}#sk-387a447e-ee27-418a-ae84-4f87b2fa425f label.sk-toggleable__label-arrow:hover:before {color: black;}#sk-387a447e-ee27-418a-ae84-4f87b2fa425f div.sk-estimator:hover label.sk-toggleable__label-arrow:before {color: black;}#sk-387a447e-ee27-418a-ae84-4f87b2fa425f div.sk-toggleable__content {max-height: 0;max-width: 0;overflow: hidden;text-align: left;background-color: #f0f8ff;}#sk-387a447e-ee27-418a-ae84-4f87b2fa425f div.sk-toggleable__content pre {margin: 0.2em;color: black;border-radius: 0.25em;background-color: #f0f8ff;}#sk-387a447e-ee27-418a-ae84-4f87b2fa425f input.sk-toggleable__control:checked~div.sk-toggleable__content {max-height: 200px;max-width: 100%;overflow: auto;}#sk-387a447e-ee27-418a-ae84-4f87b2fa425f input.sk-toggleable__control:checked~label.sk-toggleable__label-arrow:before {content: \"▾\";}#sk-387a447e-ee27-418a-ae84-4f87b2fa425f div.sk-estimator input.sk-toggleable__control:checked~label.sk-toggleable__label {background-color: #d4ebff;}#sk-387a447e-ee27-418a-ae84-4f87b2fa425f div.sk-label input.sk-toggleable__control:checked~label.sk-toggleable__label {background-color: #d4ebff;}#sk-387a447e-ee27-418a-ae84-4f87b2fa425f input.sk-hidden--visually {border: 0;clip: rect(1px 1px 1px 1px);clip: rect(1px, 1px, 1px, 1px);height: 1px;margin: -1px;overflow: hidden;padding: 0;position: absolute;width: 1px;}#sk-387a447e-ee27-418a-ae84-4f87b2fa425f div.sk-estimator {font-family: monospace;background-color: #f0f8ff;border: 1px dotted black;border-radius: 0.25em;box-sizing: border-box;margin-bottom: 0.5em;}#sk-387a447e-ee27-418a-ae84-4f87b2fa425f div.sk-estimator:hover {background-color: #d4ebff;}#sk-387a447e-ee27-418a-ae84-4f87b2fa425f div.sk-parallel-item::after {content: \"\";width: 100%;border-bottom: 1px solid gray;flex-grow: 1;}#sk-387a447e-ee27-418a-ae84-4f87b2fa425f div.sk-label:hover label.sk-toggleable__label {background-color: #d4ebff;}#sk-387a447e-ee27-418a-ae84-4f87b2fa425f div.sk-serial::before {content: \"\";position: absolute;border-left: 1px solid gray;box-sizing: border-box;top: 2em;bottom: 0;left: 50%;}#sk-387a447e-ee27-418a-ae84-4f87b2fa425f div.sk-serial {display: flex;flex-direction: column;align-items: center;background-color: white;padding-right: 0.2em;padding-left: 0.2em;}#sk-387a447e-ee27-418a-ae84-4f87b2fa425f div.sk-item {z-index: 1;}#sk-387a447e-ee27-418a-ae84-4f87b2fa425f div.sk-parallel {display: flex;align-items: stretch;justify-content: center;background-color: white;}#sk-387a447e-ee27-418a-ae84-4f87b2fa425f div.sk-parallel::before {content: \"\";position: absolute;border-left: 1px solid gray;box-sizing: border-box;top: 2em;bottom: 0;left: 50%;}#sk-387a447e-ee27-418a-ae84-4f87b2fa425f div.sk-parallel-item {display: flex;flex-direction: column;position: relative;background-color: white;}#sk-387a447e-ee27-418a-ae84-4f87b2fa425f div.sk-parallel-item:first-child::after {align-self: flex-end;width: 50%;}#sk-387a447e-ee27-418a-ae84-4f87b2fa425f div.sk-parallel-item:last-child::after {align-self: flex-start;width: 50%;}#sk-387a447e-ee27-418a-ae84-4f87b2fa425f div.sk-parallel-item:only-child::after {width: 0;}#sk-387a447e-ee27-418a-ae84-4f87b2fa425f div.sk-dashed-wrapped {border: 1px dashed gray;margin: 0 0.4em 0.5em 0.4em;box-sizing: border-box;padding-bottom: 0.4em;background-color: white;position: relative;}#sk-387a447e-ee27-418a-ae84-4f87b2fa425f div.sk-label label {font-family: monospace;font-weight: bold;background-color: white;display: inline-block;line-height: 1.2em;}#sk-387a447e-ee27-418a-ae84-4f87b2fa425f div.sk-label-container {position: relative;z-index: 2;text-align: center;}#sk-387a447e-ee27-418a-ae84-4f87b2fa425f div.sk-container {/* jupyter's `normalize.less` sets `[hidden] { display: none; }` but bootstrap.min.css set `[hidden] { display: none !important; }` so we also need the `!important` here to be able to override the default hidden behavior on the sphinx rendered scikit-learn.org. See: https://github.com/scikit-learn/scikit-learn/issues/21755 */display: inline-block !important;position: relative;}#sk-387a447e-ee27-418a-ae84-4f87b2fa425f div.sk-text-repr-fallback {display: none;}</style><div id='sk-387a447e-ee27-418a-ae84-4f87b2fa425f' class=\"sk-top-container\"><div class=\"sk-text-repr-fallback\"><pre>UpdateEvery(forecaster=SARIMAX(order=(3, 0, 3), seasonal_order=(2, 0, 2, 24)),\n",
       "            update_interval=24)</pre><b>Please rerun this cell to show the HTML repr or trust the notebook.</b></div><div class=\"sk-container\" hidden><div class=\"sk-item sk-dashed-wrapped\"><div class='sk-label-container'><div class=\"sk-label sk-toggleable\"><input class=\"sk-toggleable__control sk-hidden--visually\" id=UUID('69b3c95b-9188-4d3e-9c6d-e916ab8b0f73') type=\"checkbox\" ><label for=UUID('69b3c95b-9188-4d3e-9c6d-e916ab8b0f73') class='sk-toggleable__label sk-toggleable__label-arrow'>UpdateEvery</label><div class=\"sk-toggleable__content\"><pre>UpdateEvery(forecaster=SARIMAX(order=(3, 0, 3), seasonal_order=(2, 0, 2, 24)),\n",
       "            update_interval=24)</pre></div></div></div><div class=\"sk-parallel\"><div class=\"sk-parallel-item\"><div class=\"sk-item\"><div class=\"sk-serial\"><div class='sk-item'><div class=\"sk-estimator sk-toggleable\"><input class=\"sk-toggleable__control sk-hidden--visually\" id=UUID('18718ca9-f15c-4c2e-b245-980fc7166153') type=\"checkbox\" ><label for=UUID('18718ca9-f15c-4c2e-b245-980fc7166153') class='sk-toggleable__label sk-toggleable__label-arrow'>SARIMAX</label><div class=\"sk-toggleable__content\"><pre>SARIMAX(order=(3, 0, 3), seasonal_order=(2, 0, 2, 24))</pre></div></div></div></div></div></div></div></div></div></div>"
      ],
      "text/plain": [
       "UpdateEvery(forecaster=SARIMAX(order=(3, 0, 3), seasonal_order=(2, 0, 2, 24)),\n",
       "            update_interval=24)"
      ]
     },
     "execution_count": 6,
     "metadata": {},
     "output_type": "execute_result"
    }
   ],
   "source": [
    "fh = np.arange(1, 25)\n",
    "best_model = SARIMAX(**forecaster.best_params_)\n",
    "best_model = UpdateEvery(best_model, update_interval=24)\n",
    "best_model.fit(train_target_series, fh=fh)"
   ]
  },
  {
   "cell_type": "code",
   "execution_count": null,
   "metadata": {},
   "outputs": [
    {
     "ename": "ValueError",
     "evalue": "Prediction must have `end` after `start`.",
     "output_type": "error",
     "traceback": [
      "\u001b[0;31m---------------------------------------------------------------------------\u001b[0m",
      "\u001b[0;31mValueError\u001b[0m                                Traceback (most recent call last)",
      "Cell \u001b[0;32mIn[8], line 1\u001b[0m\n\u001b[0;32m----> 1\u001b[0m predictions \u001b[38;5;241m=\u001b[39m \u001b[43mbest_model\u001b[49m\u001b[38;5;241;43m.\u001b[39;49m\u001b[43mupdate_predict\u001b[49m\u001b[43m(\u001b[49m\n\u001b[1;32m      2\u001b[0m \u001b[43m    \u001b[49m\u001b[43mtest_target_series\u001b[49m\u001b[43m,\u001b[49m\u001b[43m \u001b[49m\u001b[43mupdate_params\u001b[49m\u001b[38;5;241;43m=\u001b[39;49m\u001b[38;5;28;43;01mFalse\u001b[39;49;00m\n\u001b[1;32m      3\u001b[0m \u001b[43m)\u001b[49m\n\u001b[1;32m      4\u001b[0m predictions\n",
      "File \u001b[0;32m~/.cache/pypoetry/virtualenvs/src--eE-fv8V-py3.10/lib/python3.10/site-packages/sktime/forecasting/base/_base.py:977\u001b[0m, in \u001b[0;36mBaseForecaster.update_predict\u001b[0;34m(self, y, cv, X, update_params, reset_forecaster)\u001b[0m\n\u001b[1;32m    973\u001b[0m X_inner, y_inner \u001b[38;5;241m=\u001b[39m \u001b[38;5;28mself\u001b[39m\u001b[38;5;241m.\u001b[39m_check_X_y(X\u001b[38;5;241m=\u001b[39mX, y\u001b[38;5;241m=\u001b[39my)\n\u001b[1;32m    975\u001b[0m cv \u001b[38;5;241m=\u001b[39m check_cv(cv)\n\u001b[0;32m--> 977\u001b[0m \u001b[38;5;28;01mreturn\u001b[39;00m \u001b[38;5;28;43mself\u001b[39;49m\u001b[38;5;241;43m.\u001b[39;49m\u001b[43m_predict_moving_cutoff\u001b[49m\u001b[43m(\u001b[49m\n\u001b[1;32m    978\u001b[0m \u001b[43m    \u001b[49m\u001b[43my\u001b[49m\u001b[38;5;241;43m=\u001b[39;49m\u001b[43my_inner\u001b[49m\u001b[43m,\u001b[49m\n\u001b[1;32m    979\u001b[0m \u001b[43m    \u001b[49m\u001b[43mcv\u001b[49m\u001b[38;5;241;43m=\u001b[39;49m\u001b[43mcv\u001b[49m\u001b[43m,\u001b[49m\n\u001b[1;32m    980\u001b[0m \u001b[43m    \u001b[49m\u001b[43mX\u001b[49m\u001b[38;5;241;43m=\u001b[39;49m\u001b[43mX_inner\u001b[49m\u001b[43m,\u001b[49m\n\u001b[1;32m    981\u001b[0m \u001b[43m    \u001b[49m\u001b[43mupdate_params\u001b[49m\u001b[38;5;241;43m=\u001b[39;49m\u001b[43mupdate_params\u001b[49m\u001b[43m,\u001b[49m\n\u001b[1;32m    982\u001b[0m \u001b[43m    \u001b[49m\u001b[43mreset_forecaster\u001b[49m\u001b[38;5;241;43m=\u001b[39;49m\u001b[43mreset_forecaster\u001b[49m\u001b[43m,\u001b[49m\n\u001b[1;32m    983\u001b[0m \u001b[43m\u001b[49m\u001b[43m)\u001b[49m\n",
      "File \u001b[0;32m~/.cache/pypoetry/virtualenvs/src--eE-fv8V-py3.10/lib/python3.10/site-packages/sktime/forecasting/base/_base.py:2330\u001b[0m, in \u001b[0;36mBaseForecaster._predict_moving_cutoff\u001b[0;34m(self, y, cv, X, update_params, reset_forecaster)\u001b[0m\n\u001b[1;32m   2326\u001b[0m y_new \u001b[38;5;241m=\u001b[39m y\u001b[38;5;241m.\u001b[39miloc[new_window]\n\u001b[1;32m   2328\u001b[0m \u001b[38;5;66;03m# we use `update_predict_single` here\u001b[39;00m\n\u001b[1;32m   2329\u001b[0m \u001b[38;5;66;03m#  this updates the forecasting horizon\u001b[39;00m\n\u001b[0;32m-> 2330\u001b[0m y_pred \u001b[38;5;241m=\u001b[39m \u001b[43mself_copy\u001b[49m\u001b[38;5;241;43m.\u001b[39;49m\u001b[43mupdate_predict_single\u001b[49m\u001b[43m(\u001b[49m\n\u001b[1;32m   2331\u001b[0m \u001b[43m    \u001b[49m\u001b[43my\u001b[49m\u001b[38;5;241;43m=\u001b[39;49m\u001b[43my_new\u001b[49m\u001b[43m,\u001b[49m\n\u001b[1;32m   2332\u001b[0m \u001b[43m    \u001b[49m\u001b[43mfh\u001b[49m\u001b[38;5;241;43m=\u001b[39;49m\u001b[43mfh\u001b[49m\u001b[43m,\u001b[49m\n\u001b[1;32m   2333\u001b[0m \u001b[43m    \u001b[49m\u001b[43mX\u001b[49m\u001b[38;5;241;43m=\u001b[39;49m\u001b[43mX\u001b[49m\u001b[43m,\u001b[49m\n\u001b[1;32m   2334\u001b[0m \u001b[43m    \u001b[49m\u001b[43mupdate_params\u001b[49m\u001b[38;5;241;43m=\u001b[39;49m\u001b[43mupdate_params\u001b[49m\u001b[43m,\u001b[49m\n\u001b[1;32m   2335\u001b[0m \u001b[43m\u001b[49m\u001b[43m)\u001b[49m\n\u001b[1;32m   2336\u001b[0m y_preds\u001b[38;5;241m.\u001b[39mappend(y_pred)\n\u001b[1;32m   2337\u001b[0m cutoffs\u001b[38;5;241m.\u001b[39mappend(self_copy\u001b[38;5;241m.\u001b[39mcutoff)\n",
      "File \u001b[0;32m~/.cache/pypoetry/virtualenvs/src--eE-fv8V-py3.10/lib/python3.10/site-packages/sktime/forecasting/base/_base.py:1073\u001b[0m, in \u001b[0;36mBaseForecaster.update_predict_single\u001b[0;34m(self, y, fh, X, update_params)\u001b[0m\n\u001b[1;32m   1071\u001b[0m \u001b[38;5;66;03m# checks and conversions complete, pass to inner update_predict_single\u001b[39;00m\n\u001b[1;32m   1072\u001b[0m \u001b[38;5;28;01mif\u001b[39;00m \u001b[38;5;129;01mnot\u001b[39;00m \u001b[38;5;28mself\u001b[39m\u001b[38;5;241m.\u001b[39m_is_vectorized:\n\u001b[0;32m-> 1073\u001b[0m     y_pred \u001b[38;5;241m=\u001b[39m \u001b[38;5;28;43mself\u001b[39;49m\u001b[38;5;241;43m.\u001b[39;49m\u001b[43m_update_predict_single\u001b[49m\u001b[43m(\u001b[49m\n\u001b[1;32m   1074\u001b[0m \u001b[43m        \u001b[49m\u001b[43my\u001b[49m\u001b[38;5;241;43m=\u001b[39;49m\u001b[43my_inner\u001b[49m\u001b[43m,\u001b[49m\u001b[43m \u001b[49m\u001b[43mX\u001b[49m\u001b[38;5;241;43m=\u001b[39;49m\u001b[43mX_inner\u001b[49m\u001b[43m,\u001b[49m\u001b[43m \u001b[49m\u001b[43mfh\u001b[49m\u001b[38;5;241;43m=\u001b[39;49m\u001b[43mfh\u001b[49m\u001b[43m,\u001b[49m\u001b[43m \u001b[49m\u001b[43mupdate_params\u001b[49m\u001b[38;5;241;43m=\u001b[39;49m\u001b[43mupdate_params\u001b[49m\n\u001b[1;32m   1075\u001b[0m \u001b[43m    \u001b[49m\u001b[43m)\u001b[49m\n\u001b[1;32m   1076\u001b[0m \u001b[38;5;28;01melse\u001b[39;00m:\n\u001b[1;32m   1077\u001b[0m     y_pred \u001b[38;5;241m=\u001b[39m \u001b[38;5;28mself\u001b[39m\u001b[38;5;241m.\u001b[39m_vectorize(\n\u001b[1;32m   1078\u001b[0m         \u001b[38;5;124m\"\u001b[39m\u001b[38;5;124mupdate_predict_single\u001b[39m\u001b[38;5;124m\"\u001b[39m,\n\u001b[1;32m   1079\u001b[0m         y\u001b[38;5;241m=\u001b[39my_inner,\n\u001b[0;32m   (...)\u001b[0m\n\u001b[1;32m   1082\u001b[0m         update_params\u001b[38;5;241m=\u001b[39mupdate_params,\n\u001b[1;32m   1083\u001b[0m     )\n",
      "File \u001b[0;32m~/.cache/pypoetry/virtualenvs/src--eE-fv8V-py3.10/lib/python3.10/site-packages/sktime/forecasting/base/_delegate.py:148\u001b[0m, in \u001b[0;36m_DelegatedForecaster._update_predict_single\u001b[0;34m(self, y, fh, X, update_params)\u001b[0m\n\u001b[1;32m    141\u001b[0m \u001b[38;5;250m\u001b[39m\u001b[38;5;124;03m\"\"\"Update forecaster and then make forecasts.\u001b[39;00m\n\u001b[1;32m    142\u001b[0m \n\u001b[1;32m    143\u001b[0m \u001b[38;5;124;03mImplements default behaviour of calling update and predict sequentially, but can\u001b[39;00m\n\u001b[1;32m    144\u001b[0m \u001b[38;5;124;03mbe overwritten by subclasses to implement more efficient updating algorithms\u001b[39;00m\n\u001b[1;32m    145\u001b[0m \u001b[38;5;124;03mwhen available.\u001b[39;00m\n\u001b[1;32m    146\u001b[0m \u001b[38;5;124;03m\"\"\"\u001b[39;00m\n\u001b[1;32m    147\u001b[0m estimator \u001b[38;5;241m=\u001b[39m \u001b[38;5;28mself\u001b[39m\u001b[38;5;241m.\u001b[39m_get_delegate()\n\u001b[0;32m--> 148\u001b[0m \u001b[38;5;28;01mreturn\u001b[39;00m \u001b[43mestimator\u001b[49m\u001b[38;5;241;43m.\u001b[39;49m\u001b[43mupdate_predict_single\u001b[49m\u001b[43m(\u001b[49m\n\u001b[1;32m    149\u001b[0m \u001b[43m    \u001b[49m\u001b[43my\u001b[49m\u001b[38;5;241;43m=\u001b[39;49m\u001b[43my\u001b[49m\u001b[43m,\u001b[49m\u001b[43m \u001b[49m\u001b[43mfh\u001b[49m\u001b[38;5;241;43m=\u001b[39;49m\u001b[43mfh\u001b[49m\u001b[43m,\u001b[49m\u001b[43m \u001b[49m\u001b[43mX\u001b[49m\u001b[38;5;241;43m=\u001b[39;49m\u001b[43mX\u001b[49m\u001b[43m,\u001b[49m\u001b[43m \u001b[49m\u001b[43mupdate_params\u001b[49m\u001b[38;5;241;43m=\u001b[39;49m\u001b[43mupdate_params\u001b[49m\n\u001b[1;32m    150\u001b[0m \u001b[43m\u001b[49m\u001b[43m)\u001b[49m\n",
      "File \u001b[0;32m~/.cache/pypoetry/virtualenvs/src--eE-fv8V-py3.10/lib/python3.10/site-packages/sktime/forecasting/base/_base.py:1073\u001b[0m, in \u001b[0;36mBaseForecaster.update_predict_single\u001b[0;34m(self, y, fh, X, update_params)\u001b[0m\n\u001b[1;32m   1071\u001b[0m \u001b[38;5;66;03m# checks and conversions complete, pass to inner update_predict_single\u001b[39;00m\n\u001b[1;32m   1072\u001b[0m \u001b[38;5;28;01mif\u001b[39;00m \u001b[38;5;129;01mnot\u001b[39;00m \u001b[38;5;28mself\u001b[39m\u001b[38;5;241m.\u001b[39m_is_vectorized:\n\u001b[0;32m-> 1073\u001b[0m     y_pred \u001b[38;5;241m=\u001b[39m \u001b[38;5;28;43mself\u001b[39;49m\u001b[38;5;241;43m.\u001b[39;49m\u001b[43m_update_predict_single\u001b[49m\u001b[43m(\u001b[49m\n\u001b[1;32m   1074\u001b[0m \u001b[43m        \u001b[49m\u001b[43my\u001b[49m\u001b[38;5;241;43m=\u001b[39;49m\u001b[43my_inner\u001b[49m\u001b[43m,\u001b[49m\u001b[43m \u001b[49m\u001b[43mX\u001b[49m\u001b[38;5;241;43m=\u001b[39;49m\u001b[43mX_inner\u001b[49m\u001b[43m,\u001b[49m\u001b[43m \u001b[49m\u001b[43mfh\u001b[49m\u001b[38;5;241;43m=\u001b[39;49m\u001b[43mfh\u001b[49m\u001b[43m,\u001b[49m\u001b[43m \u001b[49m\u001b[43mupdate_params\u001b[49m\u001b[38;5;241;43m=\u001b[39;49m\u001b[43mupdate_params\u001b[49m\n\u001b[1;32m   1075\u001b[0m \u001b[43m    \u001b[49m\u001b[43m)\u001b[49m\n\u001b[1;32m   1076\u001b[0m \u001b[38;5;28;01melse\u001b[39;00m:\n\u001b[1;32m   1077\u001b[0m     y_pred \u001b[38;5;241m=\u001b[39m \u001b[38;5;28mself\u001b[39m\u001b[38;5;241m.\u001b[39m_vectorize(\n\u001b[1;32m   1078\u001b[0m         \u001b[38;5;124m\"\u001b[39m\u001b[38;5;124mupdate_predict_single\u001b[39m\u001b[38;5;124m\"\u001b[39m,\n\u001b[1;32m   1079\u001b[0m         y\u001b[38;5;241m=\u001b[39my_inner,\n\u001b[0;32m   (...)\u001b[0m\n\u001b[1;32m   1082\u001b[0m         update_params\u001b[38;5;241m=\u001b[39mupdate_params,\n\u001b[1;32m   1083\u001b[0m     )\n",
      "File \u001b[0;32m~/.cache/pypoetry/virtualenvs/src--eE-fv8V-py3.10/lib/python3.10/site-packages/sktime/forecasting/base/_base.py:1963\u001b[0m, in \u001b[0;36mBaseForecaster._update_predict_single\u001b[0;34m(self, y, fh, X, update_params)\u001b[0m\n\u001b[1;32m   1950\u001b[0m \u001b[38;5;28;01mdef\u001b[39;00m \u001b[38;5;21m_update_predict_single\u001b[39m(\n\u001b[1;32m   1951\u001b[0m     \u001b[38;5;28mself\u001b[39m,\n\u001b[1;32m   1952\u001b[0m     y,\n\u001b[0;32m   (...)\u001b[0m\n\u001b[1;32m   1955\u001b[0m     update_params\u001b[38;5;241m=\u001b[39m\u001b[38;5;28;01mTrue\u001b[39;00m,\n\u001b[1;32m   1956\u001b[0m ):\n\u001b[1;32m   1957\u001b[0m \u001b[38;5;250m    \u001b[39m\u001b[38;5;124;03m\"\"\"Update forecaster and then make forecasts.\u001b[39;00m\n\u001b[1;32m   1958\u001b[0m \n\u001b[1;32m   1959\u001b[0m \u001b[38;5;124;03m    Implements default behaviour of calling update and predict sequentially, but can\u001b[39;00m\n\u001b[1;32m   1960\u001b[0m \u001b[38;5;124;03m    be overwritten by subclasses to implement more efficient updating algorithms\u001b[39;00m\n\u001b[1;32m   1961\u001b[0m \u001b[38;5;124;03m    when available.\u001b[39;00m\n\u001b[1;32m   1962\u001b[0m \u001b[38;5;124;03m    \"\"\"\u001b[39;00m\n\u001b[0;32m-> 1963\u001b[0m     \u001b[38;5;28;43mself\u001b[39;49m\u001b[38;5;241;43m.\u001b[39;49m\u001b[43mupdate\u001b[49m\u001b[43m(\u001b[49m\u001b[43my\u001b[49m\u001b[38;5;241;43m=\u001b[39;49m\u001b[43my\u001b[49m\u001b[43m,\u001b[49m\u001b[43m \u001b[49m\u001b[43mX\u001b[49m\u001b[38;5;241;43m=\u001b[39;49m\u001b[43mX\u001b[49m\u001b[43m,\u001b[49m\u001b[43m \u001b[49m\u001b[43mupdate_params\u001b[49m\u001b[38;5;241;43m=\u001b[39;49m\u001b[43mupdate_params\u001b[49m\u001b[43m)\u001b[49m\n\u001b[1;32m   1964\u001b[0m     \u001b[38;5;28;01mreturn\u001b[39;00m \u001b[38;5;28mself\u001b[39m\u001b[38;5;241m.\u001b[39mpredict(fh\u001b[38;5;241m=\u001b[39mfh, X\u001b[38;5;241m=\u001b[39mX)\n",
      "File \u001b[0;32m~/.cache/pypoetry/virtualenvs/src--eE-fv8V-py3.10/lib/python3.10/site-packages/sktime/forecasting/base/_base.py:875\u001b[0m, in \u001b[0;36mBaseForecaster.update\u001b[0;34m(self, y, X, update_params)\u001b[0m\n\u001b[1;32m    873\u001b[0m \u001b[38;5;66;03m# checks and conversions complete, pass to inner fit\u001b[39;00m\n\u001b[1;32m    874\u001b[0m \u001b[38;5;28;01mif\u001b[39;00m \u001b[38;5;129;01mnot\u001b[39;00m \u001b[38;5;28mself\u001b[39m\u001b[38;5;241m.\u001b[39m_is_vectorized:\n\u001b[0;32m--> 875\u001b[0m     \u001b[38;5;28;43mself\u001b[39;49m\u001b[38;5;241;43m.\u001b[39;49m\u001b[43m_update\u001b[49m\u001b[43m(\u001b[49m\u001b[43my\u001b[49m\u001b[38;5;241;43m=\u001b[39;49m\u001b[43my_inner\u001b[49m\u001b[43m,\u001b[49m\u001b[43m \u001b[49m\u001b[43mX\u001b[49m\u001b[38;5;241;43m=\u001b[39;49m\u001b[43mX_inner\u001b[49m\u001b[43m,\u001b[49m\u001b[43m \u001b[49m\u001b[43mupdate_params\u001b[49m\u001b[38;5;241;43m=\u001b[39;49m\u001b[43mupdate_params\u001b[49m\u001b[43m)\u001b[49m\n\u001b[1;32m    876\u001b[0m \u001b[38;5;28;01melse\u001b[39;00m:\n\u001b[1;32m    877\u001b[0m     \u001b[38;5;28mself\u001b[39m\u001b[38;5;241m.\u001b[39m_vectorize(\u001b[38;5;124m\"\u001b[39m\u001b[38;5;124mupdate\u001b[39m\u001b[38;5;124m\"\u001b[39m, y\u001b[38;5;241m=\u001b[39my_inner, X\u001b[38;5;241m=\u001b[39mX_inner, update_params\u001b[38;5;241m=\u001b[39mupdate_params)\n",
      "File \u001b[0;32m~/.cache/pypoetry/virtualenvs/src--eE-fv8V-py3.10/lib/python3.10/site-packages/sktime/forecasting/base/adapters/_statsmodels.py:80\u001b[0m, in \u001b[0;36m_StatsModelsAdapter._update\u001b[0;34m(self, y, X, update_params)\u001b[0m\n\u001b[1;32m     78\u001b[0m \u001b[38;5;28;01mif\u001b[39;00m index_diff\u001b[38;5;241m.\u001b[39misin(y\u001b[38;5;241m.\u001b[39mindex)\u001b[38;5;241m.\u001b[39mall():\n\u001b[1;32m     79\u001b[0m     y \u001b[38;5;241m=\u001b[39m y\u001b[38;5;241m.\u001b[39mloc[index_diff]\n\u001b[0;32m---> 80\u001b[0m \u001b[38;5;28mself\u001b[39m\u001b[38;5;241m.\u001b[39m_fitted_forecaster \u001b[38;5;241m=\u001b[39m \u001b[38;5;28;43mself\u001b[39;49m\u001b[38;5;241;43m.\u001b[39;49m\u001b[43m_fitted_forecaster\u001b[49m\u001b[38;5;241;43m.\u001b[39;49m\u001b[43mappend\u001b[49m\u001b[43m(\u001b[49m\u001b[43my\u001b[49m\u001b[43m)\u001b[49m\n",
      "File \u001b[0;32m~/.cache/pypoetry/virtualenvs/src--eE-fv8V-py3.10/lib/python3.10/site-packages/statsmodels/tsa/statespace/mlemodel.py:4308\u001b[0m, in \u001b[0;36mMLEResults.append\u001b[0;34m(self, endog, exog, refit, fit_kwargs, copy_initialization, **kwargs)\u001b[0m\n\u001b[1;32m   4306\u001b[0m start \u001b[38;5;241m=\u001b[39m \u001b[38;5;28mself\u001b[39m\u001b[38;5;241m.\u001b[39mnobs\n\u001b[1;32m   4307\u001b[0m end \u001b[38;5;241m=\u001b[39m \u001b[38;5;28mself\u001b[39m\u001b[38;5;241m.\u001b[39mnobs \u001b[38;5;241m+\u001b[39m \u001b[38;5;28mlen\u001b[39m(endog) \u001b[38;5;241m-\u001b[39m \u001b[38;5;241m1\u001b[39m\n\u001b[0;32m-> 4308\u001b[0m _, _, _, append_ix \u001b[38;5;241m=\u001b[39m \u001b[38;5;28;43mself\u001b[39;49m\u001b[38;5;241;43m.\u001b[39;49m\u001b[43mmodel\u001b[49m\u001b[38;5;241;43m.\u001b[39;49m\u001b[43m_get_prediction_index\u001b[49m\u001b[43m(\u001b[49m\u001b[43mstart\u001b[49m\u001b[43m,\u001b[49m\u001b[43m \u001b[49m\u001b[43mend\u001b[49m\u001b[43m)\u001b[49m\n\u001b[1;32m   4310\u001b[0m \u001b[38;5;66;03m# Check the index of the new data\u001b[39;00m\n\u001b[1;32m   4311\u001b[0m \u001b[38;5;28;01mif\u001b[39;00m \u001b[38;5;28misinstance\u001b[39m(\u001b[38;5;28mself\u001b[39m\u001b[38;5;241m.\u001b[39mmodel\u001b[38;5;241m.\u001b[39mdata, PandasData):\n",
      "File \u001b[0;32m~/.cache/pypoetry/virtualenvs/src--eE-fv8V-py3.10/lib/python3.10/site-packages/statsmodels/tsa/base/tsa_model.py:836\u001b[0m, in \u001b[0;36mTimeSeriesModel._get_prediction_index\u001b[0;34m(self, start, end, index, silent)\u001b[0m\n\u001b[1;32m    780\u001b[0m \u001b[38;5;250m\u001b[39m\u001b[38;5;124;03m\"\"\"\u001b[39;00m\n\u001b[1;32m    781\u001b[0m \u001b[38;5;124;03mGet the location of a specific key in an index or model row labels\u001b[39;00m\n\u001b[1;32m    782\u001b[0m \n\u001b[0;32m   (...)\u001b[0m\n\u001b[1;32m    833\u001b[0m \u001b[38;5;124;03msince we have required them to be full indexes, there is no ambiguity).\u001b[39;00m\n\u001b[1;32m    834\u001b[0m \u001b[38;5;124;03m\"\"\"\u001b[39;00m\n\u001b[1;32m    835\u001b[0m nobs \u001b[38;5;241m=\u001b[39m \u001b[38;5;28mlen\u001b[39m(\u001b[38;5;28mself\u001b[39m\u001b[38;5;241m.\u001b[39mendog)\n\u001b[0;32m--> 836\u001b[0m \u001b[38;5;28;01mreturn\u001b[39;00m \u001b[43mget_prediction_index\u001b[49m\u001b[43m(\u001b[49m\n\u001b[1;32m    837\u001b[0m \u001b[43m    \u001b[49m\u001b[43mstart\u001b[49m\u001b[43m,\u001b[49m\n\u001b[1;32m    838\u001b[0m \u001b[43m    \u001b[49m\u001b[43mend\u001b[49m\u001b[43m,\u001b[49m\n\u001b[1;32m    839\u001b[0m \u001b[43m    \u001b[49m\u001b[43mnobs\u001b[49m\u001b[43m,\u001b[49m\n\u001b[1;32m    840\u001b[0m \u001b[43m    \u001b[49m\u001b[43mbase_index\u001b[49m\u001b[38;5;241;43m=\u001b[39;49m\u001b[38;5;28;43mself\u001b[39;49m\u001b[38;5;241;43m.\u001b[39;49m\u001b[43m_index\u001b[49m\u001b[43m,\u001b[49m\n\u001b[1;32m    841\u001b[0m \u001b[43m    \u001b[49m\u001b[43mindex\u001b[49m\u001b[38;5;241;43m=\u001b[39;49m\u001b[43mindex\u001b[49m\u001b[43m,\u001b[49m\n\u001b[1;32m    842\u001b[0m \u001b[43m    \u001b[49m\u001b[43msilent\u001b[49m\u001b[38;5;241;43m=\u001b[39;49m\u001b[43msilent\u001b[49m\u001b[43m,\u001b[49m\n\u001b[1;32m    843\u001b[0m \u001b[43m    \u001b[49m\u001b[43mindex_none\u001b[49m\u001b[38;5;241;43m=\u001b[39;49m\u001b[38;5;28;43mself\u001b[39;49m\u001b[38;5;241;43m.\u001b[39;49m\u001b[43m_index_none\u001b[49m\u001b[43m,\u001b[49m\n\u001b[1;32m    844\u001b[0m \u001b[43m    \u001b[49m\u001b[43mindex_generated\u001b[49m\u001b[38;5;241;43m=\u001b[39;49m\u001b[38;5;28;43mself\u001b[39;49m\u001b[38;5;241;43m.\u001b[39;49m\u001b[43m_index_generated\u001b[49m\u001b[43m,\u001b[49m\n\u001b[1;32m    845\u001b[0m \u001b[43m    \u001b[49m\u001b[43mdata\u001b[49m\u001b[38;5;241;43m=\u001b[39;49m\u001b[38;5;28;43mself\u001b[39;49m\u001b[38;5;241;43m.\u001b[39;49m\u001b[43mdata\u001b[49m\u001b[43m,\u001b[49m\n\u001b[1;32m    846\u001b[0m \u001b[43m\u001b[49m\u001b[43m)\u001b[49m\n",
      "File \u001b[0;32m~/.cache/pypoetry/virtualenvs/src--eE-fv8V-py3.10/lib/python3.10/site-packages/statsmodels/tsa/base/tsa_model.py:389\u001b[0m, in \u001b[0;36mget_prediction_index\u001b[0;34m(start, end, nobs, base_index, index, silent, index_none, index_generated, data)\u001b[0m\n\u001b[1;32m    387\u001b[0m \u001b[38;5;66;03m# Validate prediction options\u001b[39;00m\n\u001b[1;32m    388\u001b[0m \u001b[38;5;28;01mif\u001b[39;00m end \u001b[38;5;241m<\u001b[39m start:\n\u001b[0;32m--> 389\u001b[0m     \u001b[38;5;28;01mraise\u001b[39;00m \u001b[38;5;167;01mValueError\u001b[39;00m(\u001b[38;5;124m\"\u001b[39m\u001b[38;5;124mPrediction must have `end` after `start`.\u001b[39m\u001b[38;5;124m\"\u001b[39m)\n\u001b[1;32m    391\u001b[0m \u001b[38;5;66;03m# Handle custom prediction index\u001b[39;00m\n\u001b[1;32m    392\u001b[0m \u001b[38;5;66;03m# First, if we were given an index, check that it's the right size and\u001b[39;00m\n\u001b[1;32m    393\u001b[0m \u001b[38;5;66;03m# use it if so\u001b[39;00m\n\u001b[1;32m    394\u001b[0m \u001b[38;5;28;01mif\u001b[39;00m index \u001b[38;5;129;01mis\u001b[39;00m \u001b[38;5;129;01mnot\u001b[39;00m \u001b[38;5;28;01mNone\u001b[39;00m:\n",
      "\u001b[0;31mValueError\u001b[0m: Prediction must have `end` after `start`."
     ]
    }
   ],
   "source": [
    "predictions = best_model.update_predict(\n",
    "    test_target_series, update_params=False\n",
    ")\n",
    "predictions"
   ]
  },
  {
   "cell_type": "code",
   "execution_count": null,
   "metadata": {},
   "outputs": [
    {
     "ename": "AttributeError",
     "evalue": "'ForecastingGridSearchCV' object has no attribute 'best_params_'",
     "output_type": "error",
     "traceback": [
      "\u001b[0;31m---------------------------------------------------------------------------\u001b[0m",
      "\u001b[0;31mAttributeError\u001b[0m                            Traceback (most recent call last)",
      "Cell \u001b[0;32mIn[47], line 1\u001b[0m\n\u001b[0;32m----> 1\u001b[0m best_params \u001b[38;5;241m=\u001b[39m \u001b[43mforecaster\u001b[49m\u001b[38;5;241;43m.\u001b[39;49m\u001b[43mbest_params_\u001b[49m\n\u001b[1;32m      2\u001b[0m title \u001b[38;5;241m=\u001b[39m \u001b[38;5;124mf\u001b[39m\u001b[38;5;124m\"\u001b[39m\u001b[38;5;124mResutados de SARIMAX(\u001b[39m\u001b[38;5;132;01m{\u001b[39;00mbest_params[\u001b[38;5;124m'\u001b[39m\u001b[38;5;124morder\u001b[39m\u001b[38;5;124m'\u001b[39m]\u001b[38;5;132;01m}\u001b[39;00m\u001b[38;5;124m, \u001b[39m\u001b[38;5;132;01m{\u001b[39;00mbest_params[\u001b[38;5;124m'\u001b[39m\u001b[38;5;124mseasonal_order\u001b[39m\u001b[38;5;124m'\u001b[39m]\u001b[38;5;132;01m}\u001b[39;00m\u001b[38;5;124m) con actualización cada 24 horas\u001b[39m\u001b[38;5;124m\"\u001b[39m\n\u001b[1;32m      3\u001b[0m plot_series(train_target_series, test_target_series, predictions, labels\u001b[38;5;241m=\u001b[39m[\u001b[38;5;124m\"\u001b[39m\u001b[38;5;124mtrain\u001b[39m\u001b[38;5;124m\"\u001b[39m, \u001b[38;5;124m\"\u001b[39m\u001b[38;5;124mtest\u001b[39m\u001b[38;5;124m\"\u001b[39m, \u001b[38;5;124m\"\u001b[39m\u001b[38;5;124mpredictions\u001b[39m\u001b[38;5;124m\"\u001b[39m], title\u001b[38;5;241m=\u001b[39mtitle, y_label\u001b[38;5;241m=\u001b[39m\u001b[38;5;124m\"\u001b[39m\u001b[38;5;124mOcupación\u001b[39m\u001b[38;5;124m\"\u001b[39m)\n",
      "\u001b[0;31mAttributeError\u001b[0m: 'ForecastingGridSearchCV' object has no attribute 'best_params_'"
     ]
    }
   ],
   "source": [
    "best_params = forecaster.best_params_\n",
    "title = f\"Resutados de SARIMAX({best_params['order']}, {best_params['seasonal_order']}) con actualización cada 24 horas\"\n",
    "plot_series(train_target_series, test_target_series, predictions, labels=[\"train\", \"test\", \"predictions\"], title=title, y_label=\"Ocupación\")"
   ]
  },
  {
   "cell_type": "code",
   "execution_count": null,
   "metadata": {},
   "outputs": [
    {
     "data": {
      "text/plain": [
       "3.1968257270297463e+30"
      ]
     },
     "execution_count": 40,
     "metadata": {},
     "output_type": "execute_result"
    }
   ],
   "source": [
    "mean_squared_percentage_error(test_target_series[:-1], predictions)"
   ]
  },
  {
   "cell_type": "code",
   "execution_count": null,
   "metadata": {},
   "outputs": [
    {
     "data": {
      "text/plain": [
       "9.544604574305607"
      ]
     },
     "execution_count": 41,
     "metadata": {},
     "output_type": "execute_result"
    }
   ],
   "source": [
    "mean_squared_error(test_target_series[:-1], predictions)"
   ]
  },
  {
   "cell_type": "code",
   "execution_count": null,
   "metadata": {},
   "outputs": [
    {
     "data": {
      "text/html": [
       "<div>\n",
       "<style scoped>\n",
       "    .dataframe tbody tr th:only-of-type {\n",
       "        vertical-align: middle;\n",
       "    }\n",
       "\n",
       "    .dataframe tbody tr th {\n",
       "        vertical-align: top;\n",
       "    }\n",
       "\n",
       "    .dataframe thead th {\n",
       "        text-align: right;\n",
       "    }\n",
       "</style>\n",
       "<table border=\"1\" class=\"dataframe\">\n",
       "  <thead>\n",
       "    <tr style=\"text-align: right;\">\n",
       "      <th></th>\n",
       "      <th>mean_test__DynamicForecastingErrorMetric</th>\n",
       "      <th>mean_fit_time</th>\n",
       "      <th>mean_pred_time</th>\n",
       "      <th>params</th>\n",
       "      <th>rank_test__DynamicForecastingErrorMetric</th>\n",
       "    </tr>\n",
       "  </thead>\n",
       "  <tbody>\n",
       "    <tr>\n",
       "      <th>0</th>\n",
       "      <td>4.245721e+31</td>\n",
       "      <td>0.600116</td>\n",
       "      <td>0.022936</td>\n",
       "      <td>{'order': (0, 0, 1), 'seasonal_order': (0, 0, ...</td>\n",
       "      <td>1.0</td>\n",
       "    </tr>\n",
       "  </tbody>\n",
       "</table>\n",
       "</div>"
      ],
      "text/plain": [
       "   mean_test__DynamicForecastingErrorMetric  mean_fit_time  mean_pred_time  \\\n",
       "0                              4.245721e+31       0.600116        0.022936   \n",
       "\n",
       "                                              params  \\\n",
       "0  {'order': (0, 0, 1), 'seasonal_order': (0, 0, ...   \n",
       "\n",
       "   rank_test__DynamicForecastingErrorMetric  \n",
       "0                                       1.0  "
      ]
     },
     "execution_count": 7,
     "metadata": {},
     "output_type": "execute_result"
    }
   ],
   "source": [
    "# Save csv with results\n",
    "forecaster.cv_results_.to_csv(\n",
    "    os.path.join(config.processed_data_path, \"sarimax_rolling_cv_results.csv\")\n",
    ")"
   ]
  }
 ],
 "metadata": {
  "kernelspec": {
   "display_name": "src--eE-fv8V-py3.10",
   "language": "python",
   "name": "python3"
  },
  "language_info": {
   "codemirror_mode": {
    "name": "ipython",
    "version": 3
   },
   "file_extension": ".py",
   "mimetype": "text/x-python",
   "name": "python",
   "nbconvert_exporter": "python",
   "pygments_lexer": "ipython3",
   "version": "3.10.6"
  }
 },
 "nbformat": 4,
 "nbformat_minor": 2
}
