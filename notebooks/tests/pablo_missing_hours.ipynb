{
 "cells": [
  {
   "cell_type": "code",
   "execution_count": 2,
   "metadata": {},
   "outputs": [
    {
     "data": {
      "text/plain": [
       "Config(raw_data_path=PosixPath('/home/pablo/VSCodeProjects/bicimad/data/raw'), processed_data_path=PosixPath('/home/pablo/VSCodeProjects/bicimad/data/processed'), num_neighbor_stations=5, target_station_id=90)"
      ]
     },
     "execution_count": 2,
     "metadata": {},
     "output_type": "execute_result"
    }
   ],
   "source": [
    "import pandas as pd\n",
    "\n",
    "from src import get_config\n",
    "\n",
    "config = get_config()\n",
    "config"
   ]
  },
  {
   "cell_type": "code",
   "execution_count": 3,
   "metadata": {},
   "outputs": [
    {
     "name": "stdout",
     "output_type": "stream",
     "text": [
      "                            90  102  101  107  65  103\n",
      "timestamps                                            \n",
      "2022-01-01 00:13:20.603583  19   21   21   14  13   15\n",
      "2022-01-01 01:13:21.911079  19   20   21   14  11   15\n",
      "2022-01-01 02:13:23.718951  19   20   20   14  11   13\n",
      "2022-01-01 03:13:23.902654  18   20   20   14  11   12\n",
      "2022-01-01 04:13:26.826536  18   20   19   14  11   11\n"
     ]
    }
   ],
   "source": [
    "stations_timeseries = pd.read_csv(\n",
    "    config.processed_data_path / \"stations_timeseries.csv\", index_col=0, parse_dates=True\n",
    ")\n",
    "print(stations_timeseries.head())"
   ]
  },
  {
   "cell_type": "code",
   "execution_count": null,
   "metadata": {},
   "outputs": [],
   "source": []
  }
 ],
 "metadata": {
  "kernelspec": {
   "display_name": "src--eE-fv8V-py3.10",
   "language": "python",
   "name": "python3"
  },
  "language_info": {
   "codemirror_mode": {
    "name": "ipython",
    "version": 3
   },
   "file_extension": ".py",
   "mimetype": "text/x-python",
   "name": "python",
   "nbconvert_exporter": "python",
   "pygments_lexer": "ipython3",
   "version": "3.10.6"
  }
 },
 "nbformat": 4,
 "nbformat_minor": 2
}
