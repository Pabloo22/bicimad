{
 "cells": [
  {
   "cell_type": "markdown",
   "metadata": {},
   "source": [
    "# Análisis predictivo de la disponibilidad de bicicletas en estaciones BiciMad\n",
    "Pablo Ariño & Álvaro Laguna"
   ]
  },
  {
   "cell_type": "markdown",
   "metadata": {},
   "source": [
    "## Importación de librerías y cofiguración"
   ]
  },
  {
   "cell_type": "code",
   "execution_count": 1,
   "metadata": {},
   "outputs": [
    {
     "data": {
      "text/plain": [
       "True"
      ]
     },
     "execution_count": 1,
     "metadata": {},
     "output_type": "execute_result"
    }
   ],
   "source": [
    "import os\n",
    "\n",
    "import dotenv\n",
    "\n",
    "from src.data import (\n",
    "    find_json_files_in_directory,\n",
    "    load_json_files,\n",
    "    load_json_objects,\n",
    ")\n",
    "\n",
    "dotenv.load_dotenv()"
   ]
  },
  {
   "cell_type": "code",
   "execution_count": 2,
   "metadata": {},
   "outputs": [
    {
     "name": "stdout",
     "output_type": "stream",
     "text": [
      "Data files: ['202210.json', '202211.json', '202212.json']\n"
     ]
    }
   ],
   "source": [
    "DATA_PATH = os.getenv(\"DATA_PATH\", \"data\")\n",
    "DATA_RAW_PATH = DATA_PATH + \"raw/\"\n",
    "DATA_PROCESSED_PATH = DATA_PATH + \"processed/\"\n",
    "DATA_FILES = sorted(find_json_files_in_directory(DATA_PATH + \"raw\"))\n",
    "print(f\"Data files: {DATA_FILES}\")\n",
    "TARGET_STATION_NAME = \"Puerta de Madrid\""
   ]
  },
  {
   "cell_type": "code",
   "execution_count": null,
   "metadata": {},
   "outputs": [],
   "source": [
    "# Processed data names\n",
    "STATIONS_DATA_FILENAME = \"stations.csv\"\n",
    "DOCK_BIKES_DATA_FILENAME = \"dock_bikes_timeseries.csv\""
   ]
  },
  {
   "cell_type": "markdown",
   "metadata": {},
   "source": [
    "## Load data"
   ]
  },
  {
   "cell_type": "code",
   "execution_count": 4,
   "metadata": {},
   "outputs": [],
   "source": [
    "raw_data = load_json_files(DATA_RAW_PATH, DATA_FILES)"
   ]
  },
  {
   "cell_type": "code",
   "execution_count": 5,
   "metadata": {},
   "outputs": [
    {
     "data": {
      "text/plain": [
       "2181"
      ]
     },
     "execution_count": 5,
     "metadata": {},
     "output_type": "execute_result"
    }
   ],
   "source": [
    "len(raw_data)"
   ]
  },
  {
   "cell_type": "markdown",
   "metadata": {},
   "source": [
    "## Process data"
   ]
  },
  {
   "cell_type": "code",
   "execution_count": null,
   "metadata": {},
   "outputs": [],
   "source": [
    "stations = build_stations_dataframe(raw_data)\n",
    "stations"
   ]
  },
  {
   "cell_type": "code",
   "execution_count": null,
   "metadata": {},
   "outputs": [],
   "source": [
    "# Save to CSV\n",
    "stations.to_csv(DATA_PROCESSED_PATH + STATIONS_DATA_FILENAME, index=False)"
   ]
  },
  {
   "cell_type": "code",
   "execution_count": null,
   "metadata": {},
   "outputs": [],
   "source": [
    "top_5_closest_stations = get_k_closest_stations(\n",
    "    TARGET_STATION_NAME, stations, k=5,\n",
    ")"
   ]
  },
  {
   "cell_type": "code",
   "execution_count": null,
   "metadata": {},
   "outputs": [],
   "source": [
    "top_5_closest_stations_names = top_5_closest_stations[\"name\"].tolist()\n",
    "plot_stations_in_map(\n",
    "    stations,\n",
    "    target_station_name=TARGET_STATION_NAME,\n",
    "    other_stations_names=top_5_closest_stations_names,\n",
    ")"
   ]
  },
  {
   "cell_type": "code",
   "execution_count": null,
   "metadata": {},
   "outputs": [],
   "source": [
    "station_names = [TARGET_STATION_NAME] + top_5_closest_stations_names\n",
    "dock_bikes_timeseries = build_dock_bikes_timeseries_dataframe(\n",
    "    raw_data, station_names\n",
    ")"
   ]
  },
  {
   "cell_type": "code",
   "execution_count": null,
   "metadata": {},
   "outputs": [],
   "source": [
    "# Save to CSV\n",
    "dock_bikes_timeseries.to_csv(\n",
    "    DATA_PROCESSED_PATH + DOCK_BIKES_DATA_FILENAME, index=False\n",
    ")"
   ]
  }
 ],
 "metadata": {
  "kernelspec": {
   "display_name": "src--eE-fv8V-py3.10",
   "language": "python",
   "name": "python3"
  },
  "language_info": {
   "codemirror_mode": {
    "name": "ipython",
    "version": 3
   },
   "file_extension": ".py",
   "mimetype": "text/x-python",
   "name": "python",
   "nbconvert_exporter": "python",
   "pygments_lexer": "ipython3",
   "version": "3.10.6"
  }
 },
 "nbformat": 4,
 "nbformat_minor": 2
}
